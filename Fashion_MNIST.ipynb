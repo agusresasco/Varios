{
 "cells": [
  {
   "cell_type": "markdown",
   "id": "b635e456-504b-4576-929a-6376bcc2742b",
   "metadata": {},
   "source": [
    "# CARGA DE DATASET"
   ]
  },
  {
   "cell_type": "code",
   "execution_count": 70,
   "id": "fed2b302-5c99-4fff-a0eb-6d46cce7f972",
   "metadata": {},
   "outputs": [],
   "source": [
    "import numpy as np\n",
    "import pandas as pd\n",
    "from matplotlib import pyplot as plt"
   ]
  },
  {
   "cell_type": "code",
   "execution_count": 7,
   "id": "9d46b348-6ef3-4b39-abeb-89232783cb9a",
   "metadata": {},
   "outputs": [],
   "source": [
    "DATOS_TRAIN = pd.read_csv('C:/Users/agust/DeepLearningCourse/Fashion_MNIST/fashion-mnist_train.csv')\n",
    "DATOS_TEST = pd.read_csv('C:/Users/agust/DeepLearningCourse/Fashion_MNIST/fashion-mnist_test.csv')"
   ]
  },
  {
   "cell_type": "code",
   "execution_count": 8,
   "id": "5a32ca3e-005c-49f4-a248-33752f91ae02",
   "metadata": {},
   "outputs": [
    {
     "data": {
      "text/html": [
       "<div>\n",
       "<style scoped>\n",
       "    .dataframe tbody tr th:only-of-type {\n",
       "        vertical-align: middle;\n",
       "    }\n",
       "\n",
       "    .dataframe tbody tr th {\n",
       "        vertical-align: top;\n",
       "    }\n",
       "\n",
       "    .dataframe thead th {\n",
       "        text-align: right;\n",
       "    }\n",
       "</style>\n",
       "<table border=\"1\" class=\"dataframe\">\n",
       "  <thead>\n",
       "    <tr style=\"text-align: right;\">\n",
       "      <th></th>\n",
       "      <th>label</th>\n",
       "      <th>pixel1</th>\n",
       "      <th>pixel2</th>\n",
       "      <th>pixel3</th>\n",
       "      <th>pixel4</th>\n",
       "      <th>pixel5</th>\n",
       "      <th>pixel6</th>\n",
       "      <th>pixel7</th>\n",
       "      <th>pixel8</th>\n",
       "      <th>pixel9</th>\n",
       "      <th>...</th>\n",
       "      <th>pixel775</th>\n",
       "      <th>pixel776</th>\n",
       "      <th>pixel777</th>\n",
       "      <th>pixel778</th>\n",
       "      <th>pixel779</th>\n",
       "      <th>pixel780</th>\n",
       "      <th>pixel781</th>\n",
       "      <th>pixel782</th>\n",
       "      <th>pixel783</th>\n",
       "      <th>pixel784</th>\n",
       "    </tr>\n",
       "  </thead>\n",
       "  <tbody>\n",
       "    <tr>\n",
       "      <th>0</th>\n",
       "      <td>2</td>\n",
       "      <td>0</td>\n",
       "      <td>0</td>\n",
       "      <td>0</td>\n",
       "      <td>0</td>\n",
       "      <td>0</td>\n",
       "      <td>0</td>\n",
       "      <td>0</td>\n",
       "      <td>0</td>\n",
       "      <td>0</td>\n",
       "      <td>...</td>\n",
       "      <td>0</td>\n",
       "      <td>0</td>\n",
       "      <td>0</td>\n",
       "      <td>0</td>\n",
       "      <td>0</td>\n",
       "      <td>0</td>\n",
       "      <td>0</td>\n",
       "      <td>0</td>\n",
       "      <td>0</td>\n",
       "      <td>0</td>\n",
       "    </tr>\n",
       "    <tr>\n",
       "      <th>1</th>\n",
       "      <td>9</td>\n",
       "      <td>0</td>\n",
       "      <td>0</td>\n",
       "      <td>0</td>\n",
       "      <td>0</td>\n",
       "      <td>0</td>\n",
       "      <td>0</td>\n",
       "      <td>0</td>\n",
       "      <td>0</td>\n",
       "      <td>0</td>\n",
       "      <td>...</td>\n",
       "      <td>0</td>\n",
       "      <td>0</td>\n",
       "      <td>0</td>\n",
       "      <td>0</td>\n",
       "      <td>0</td>\n",
       "      <td>0</td>\n",
       "      <td>0</td>\n",
       "      <td>0</td>\n",
       "      <td>0</td>\n",
       "      <td>0</td>\n",
       "    </tr>\n",
       "    <tr>\n",
       "      <th>2</th>\n",
       "      <td>6</td>\n",
       "      <td>0</td>\n",
       "      <td>0</td>\n",
       "      <td>0</td>\n",
       "      <td>0</td>\n",
       "      <td>0</td>\n",
       "      <td>0</td>\n",
       "      <td>0</td>\n",
       "      <td>5</td>\n",
       "      <td>0</td>\n",
       "      <td>...</td>\n",
       "      <td>0</td>\n",
       "      <td>0</td>\n",
       "      <td>0</td>\n",
       "      <td>30</td>\n",
       "      <td>43</td>\n",
       "      <td>0</td>\n",
       "      <td>0</td>\n",
       "      <td>0</td>\n",
       "      <td>0</td>\n",
       "      <td>0</td>\n",
       "    </tr>\n",
       "    <tr>\n",
       "      <th>3</th>\n",
       "      <td>0</td>\n",
       "      <td>0</td>\n",
       "      <td>0</td>\n",
       "      <td>0</td>\n",
       "      <td>1</td>\n",
       "      <td>2</td>\n",
       "      <td>0</td>\n",
       "      <td>0</td>\n",
       "      <td>0</td>\n",
       "      <td>0</td>\n",
       "      <td>...</td>\n",
       "      <td>3</td>\n",
       "      <td>0</td>\n",
       "      <td>0</td>\n",
       "      <td>0</td>\n",
       "      <td>0</td>\n",
       "      <td>1</td>\n",
       "      <td>0</td>\n",
       "      <td>0</td>\n",
       "      <td>0</td>\n",
       "      <td>0</td>\n",
       "    </tr>\n",
       "    <tr>\n",
       "      <th>4</th>\n",
       "      <td>3</td>\n",
       "      <td>0</td>\n",
       "      <td>0</td>\n",
       "      <td>0</td>\n",
       "      <td>0</td>\n",
       "      <td>0</td>\n",
       "      <td>0</td>\n",
       "      <td>0</td>\n",
       "      <td>0</td>\n",
       "      <td>0</td>\n",
       "      <td>...</td>\n",
       "      <td>0</td>\n",
       "      <td>0</td>\n",
       "      <td>0</td>\n",
       "      <td>0</td>\n",
       "      <td>0</td>\n",
       "      <td>0</td>\n",
       "      <td>0</td>\n",
       "      <td>0</td>\n",
       "      <td>0</td>\n",
       "      <td>0</td>\n",
       "    </tr>\n",
       "  </tbody>\n",
       "</table>\n",
       "<p>5 rows × 785 columns</p>\n",
       "</div>"
      ],
      "text/plain": [
       "   label  pixel1  pixel2  pixel3  pixel4  pixel5  pixel6  pixel7  pixel8  \\\n",
       "0      2       0       0       0       0       0       0       0       0   \n",
       "1      9       0       0       0       0       0       0       0       0   \n",
       "2      6       0       0       0       0       0       0       0       5   \n",
       "3      0       0       0       0       1       2       0       0       0   \n",
       "4      3       0       0       0       0       0       0       0       0   \n",
       "\n",
       "   pixel9  ...  pixel775  pixel776  pixel777  pixel778  pixel779  pixel780  \\\n",
       "0       0  ...         0         0         0         0         0         0   \n",
       "1       0  ...         0         0         0         0         0         0   \n",
       "2       0  ...         0         0         0        30        43         0   \n",
       "3       0  ...         3         0         0         0         0         1   \n",
       "4       0  ...         0         0         0         0         0         0   \n",
       "\n",
       "   pixel781  pixel782  pixel783  pixel784  \n",
       "0         0         0         0         0  \n",
       "1         0         0         0         0  \n",
       "2         0         0         0         0  \n",
       "3         0         0         0         0  \n",
       "4         0         0         0         0  \n",
       "\n",
       "[5 rows x 785 columns]"
      ]
     },
     "execution_count": 8,
     "metadata": {},
     "output_type": "execute_result"
    }
   ],
   "source": [
    "DATOS_TRAIN.head()"
   ]
  },
  {
   "cell_type": "code",
   "execution_count": 24,
   "id": "63c0f63b-7ebe-4310-86b7-c660c5467d24",
   "metadata": {},
   "outputs": [],
   "source": [
    "Train_Array = DATOS_TRAIN.to_numpy().astype(int)\n",
    "Test_Array = DATOS_TEST.to_numpy().astype(int)"
   ]
  },
  {
   "cell_type": "code",
   "execution_count": 46,
   "id": "302f6a4b-96f8-44e1-9dd9-f95d65c2a294",
   "metadata": {},
   "outputs": [
    {
     "data": {
      "text/plain": [
       "((60000, 785), (10000, 785))"
      ]
     },
     "execution_count": 46,
     "metadata": {},
     "output_type": "execute_result"
    }
   ],
   "source": [
    "Train_Array.shape, Test_Array.shape"
   ]
  },
  {
   "cell_type": "code",
   "execution_count": 36,
   "id": "f5dbe471-c23d-4aff-b051-93b3a31af48c",
   "metadata": {},
   "outputs": [
    {
     "data": {
      "text/plain": [
       "<matplotlib.image.AxesImage at 0x251b5349220>"
      ]
     },
     "execution_count": 36,
     "metadata": {},
     "output_type": "execute_result"
    },
    {
     "data": {
      "image/png": "[encoded data removed]",
      "text/plain": [
       "<Figure size 432x288 with 1 Axes>"
      ]
     },
     "metadata": {
      "needs_background": "light"
     },
     "output_type": "display_data"
    }
   ],
   "source": [
    "# Visualizamos la primer imagen del train dataset (remuevo la primer columna que es el target)\n",
    "\n",
    "img = Train_Array[:1,1:].reshape(28,28)\n",
    "\n",
    "plt.imshow(img, cmap='gray')"
   ]
  },
  {
   "cell_type": "markdown",
   "id": "a2cf50c4-f98b-4427-b8d6-c1b441f5f0c0",
   "metadata": {},
   "source": [
    "# Separo los dataset en train test y target"
   ]
  },
  {
   "cell_type": "code",
   "execution_count": 48,
   "id": "18dffd6a-9399-4afd-baab-de029c0348e8",
   "metadata": {},
   "outputs": [
    {
     "data": {
      "text/plain": [
       "(60000, 784)"
      ]
     },
     "execution_count": 48,
     "metadata": {},
     "output_type": "execute_result"
    }
   ],
   "source": [
    "X_train = Train_Array[:,1:]\n",
    "X_train.shape"
   ]
  },
  {
   "cell_type": "code",
   "execution_count": 51,
   "id": "c2063cf3-5287-410b-8301-ec99b5c6fd4a",
   "metadata": {},
   "outputs": [
    {
     "data": {
      "text/plain": [
       "(60000, 1)"
      ]
     },
     "execution_count": 51,
     "metadata": {},
     "output_type": "execute_result"
    }
   ],
   "source": [
    "y_train = Train_Array[:,:1]\n",
    "y_train.shape"
   ]
  },
  {
   "cell_type": "code",
   "execution_count": 54,
   "id": "42efe3b6-280c-4d66-ac0e-3606bc2dadb0",
   "metadata": {},
   "outputs": [
    {
     "data": {
      "text/plain": [
       "(10000, 784)"
      ]
     },
     "execution_count": 54,
     "metadata": {},
     "output_type": "execute_result"
    }
   ],
   "source": [
    "X_test = Test_Array[:,1:]\n",
    "X_test.shape"
   ]
  },
  {
   "cell_type": "code",
   "execution_count": 56,
   "id": "bb546440-cab1-425b-b427-e175ae81622d",
   "metadata": {},
   "outputs": [
    {
     "data": {
      "text/plain": [
       "(10000, 1)"
      ]
     },
     "execution_count": 56,
     "metadata": {},
     "output_type": "execute_result"
    }
   ],
   "source": [
    "y_test = Test_Array[:,:1]\n",
    "y_test.shape"
   ]
  },
  {
   "cell_type": "markdown",
   "id": "5c285ba6-0bea-4c99-8e8d-7cec1684a1f5",
   "metadata": {},
   "source": [
    "# Solucion Utilizando Bayes"
   ]
  },
  {
   "cell_type": "code",
   "execution_count": 59,
   "id": "feaac2dd-a0c5-4c29-a38b-5569d77529b9",
   "metadata": {},
   "outputs": [],
   "source": [
    "from sklearn.naive_bayes import GaussianNB"
   ]
  },
  {
   "cell_type": "code",
   "execution_count": 60,
   "id": "02db1fd6-b2b5-43df-946d-0d1214e8b12d",
   "metadata": {},
   "outputs": [],
   "source": [
    "gnb = GaussianNB()"
   ]
  },
  {
   "cell_type": "code",
   "execution_count": 79,
   "id": "5bc1fcdd-e217-4690-ab48-01840ef91834",
   "metadata": {},
   "outputs": [],
   "source": [
    "y_pred = gnb.fit(X_train, np.ravel(y_train)).predict(X_test) #np.ravel lo use sino da error\n",
    "#np.ravel is used to change a 2-dimensional array or a multi-dimensional array into a contiguous flattened array"
   ]
  },
  {
   "cell_type": "code",
   "execution_count": 76,
   "id": "8a0ec08a-96b9-49c6-bf6c-7ab1f5487543",
   "metadata": {},
   "outputs": [
    {
     "name": "stdout",
     "output_type": "stream",
     "text": [
      "Number of mislabeled points out of a total 10000 points : 4086\n"
     ]
    }
   ],
   "source": [
    "print(\"Number of mislabeled points out of a total %d points : %d\"\n",
    "    % (X_test.shape[0], (np.ravel(y_test) != np.ravel(y_pred)).sum()))"
   ]
  },
  {
   "cell_type": "code",
   "execution_count": 78,
   "id": "e28d0915-8cb1-4b42-8d48-9637bcbd08c6",
   "metadata": {},
   "outputs": [
    {
     "data": {
      "text/plain": [
       "0.5914"
      ]
     },
     "execution_count": 78,
     "metadata": {},
     "output_type": "execute_result"
    }
   ],
   "source": [
    "# Accuracy\n",
    "gnb.score(X_test, np.ravel(y_test))"
   ]
  },
  {
   "cell_type": "code",
   "execution_count": 90,
   "id": "781ceb14-26a8-49b1-9752-b4675b9b2f6c",
   "metadata": {},
   "outputs": [
    {
     "name": "stdout",
     "output_type": "stream",
     "text": [
      "(10, 784)\n",
      "(10, 784)\n",
      "cantidad de parametros aprendidos: 15680\n"
     ]
    }
   ],
   "source": [
    "# Medias\n",
    "print(gnb.theta_.shape)\n",
    "# varianzas (desvios)\n",
    "print(gnb.var_.shape)\n",
    "print('cantidad de parametros aprendidos:', np.product(gnb.theta_.shape) \n",
    "      + np.product(gnb.sigma_.shape))"
   ]
  },
  {
   "cell_type": "code",
   "execution_count": 86,
   "id": "d5b4257c-0c37-4c26-92c2-400f94b72284",
   "metadata": {},
   "outputs": [
    {
     "data": {
      "text/plain": [
       "3"
      ]
     },
     "execution_count": 86,
     "metadata": {},
     "output_type": "execute_result"
    }
   ],
   "source": [
    "np.ravel(y_pred)[10]"
   ]
  },
  {
   "cell_type": "code",
   "execution_count": 87,
   "id": "5594ef21-13fc-4c04-84b0-2f321e0d4e8d",
   "metadata": {},
   "outputs": [
    {
     "data": {
      "text/plain": [
       "3"
      ]
     },
     "execution_count": 87,
     "metadata": {},
     "output_type": "execute_result"
    }
   ],
   "source": [
    "np.ravel(y_test)[10]"
   ]
  },
  {
   "cell_type": "code",
   "execution_count": 88,
   "id": "800510c4-2735-4147-b88e-9a5d7577f9d4",
   "metadata": {},
   "outputs": [
    {
     "data": {
      "text/plain": [
       "<matplotlib.image.AxesImage at 0x251c6026400>"
      ]
     },
     "execution_count": 88,
     "metadata": {},
     "output_type": "execute_result"
    },
    {
     "data": {
      "image/png": "[encoded data removed]",
      "text/plain": [
       "<Figure size 432x288 with 1 Axes>"
      ]
     },
     "metadata": {
      "needs_background": "light"
     },
     "output_type": "display_data"
    }
   ],
   "source": [
    "# Visualizamos la primer imagen del train dataset (remuevo la primer columna que es el target)\n",
    "\n",
    "img = X_test[10:11,:].reshape(28,28)\n",
    "\n",
    "plt.imshow(img, cmap='gray')"
   ]
  },
  {
   "cell_type": "markdown",
   "id": "0cb7c3a0-44e2-4f17-8310-032689b5ff4e",
   "metadata": {},
   "source": [
    "# Solucion con TensorFlow"
   ]
  },
  {
   "cell_type": "markdown",
   "id": "6034d51c-d0e6-42f9-bcea-26153625948f",
   "metadata": {},
   "source": [
    "Guiado por codigo publicado en https://www.kaggle.com/code/ayushrathi47/fashion-mnist-with-tensorflow"
   ]
  },
  {
   "cell_type": "code",
   "execution_count": 92,
   "id": "592d913d-8db2-4ec7-8c8f-d53b43ccb0a8",
   "metadata": {},
   "outputs": [
    {
     "name": "stdout",
     "output_type": "stream",
     "text": [
      "Collecting tensorflow\n",
      "  Using cached tensorflow-2.8.0-cp39-cp39-win_amd64.whl (438.0 MB)\n",
      "Collecting tensorboard<2.9,>=2.8\n",
      "  Using cached tensorboard-2.8.0-py3-none-any.whl (5.8 MB)\n",
      "Collecting opt-einsum>=2.3.2\n",
      "  Using cached opt_einsum-3.3.0-py3-none-any.whl (65 kB)\n",
      "Collecting gast>=0.2.1\n",
      "  Using cached gast-0.5.3-py3-none-any.whl (19 kB)\n",
      "Collecting keras-preprocessing>=1.1.1\n",
      "  Using cached Keras_Preprocessing-1.1.2-py2.py3-none-any.whl (42 kB)\n",
      "Collecting flatbuffers>=1.12\n",
      "  Using cached flatbuffers-2.0-py2.py3-none-any.whl (26 kB)\n",
      "Collecting wrapt>=1.11.0\n",
      "  Downloading wrapt-1.14.1-cp39-cp39-win_amd64.whl (35 kB)\n",
      "Collecting astunparse>=1.6.0\n",
      "  Using cached astunparse-1.6.3-py2.py3-none-any.whl (12 kB)\n",
      "Collecting tf-estimator-nightly==2.8.0.dev2021122109\n",
      "  Using cached tf_estimator_nightly-2.8.0.dev2021122109-py2.py3-none-any.whl (462 kB)\n",
      "Collecting libclang>=9.0.1\n",
      "  Downloading libclang-14.0.1-py2.py3-none-win_amd64.whl (14.2 MB)\n",
      "Collecting google-pasta>=0.1.1\n",
      "  Using cached google_pasta-0.2.0-py3-none-any.whl (57 kB)\n",
      "Collecting tensorflow-io-gcs-filesystem>=0.23.1\n",
      "  Downloading tensorflow_io_gcs_filesystem-0.25.0-cp39-cp39-win_amd64.whl (1.5 MB)\n",
      "Collecting protobuf>=3.9.2\n",
      "  Downloading protobuf-3.20.1-cp39-cp39-win_amd64.whl (904 kB)\n",
      "Requirement already satisfied: six>=1.12.0 in c:\\users\\agust\\anaconda3\\envs\\cursodeeplearning\\lib\\site-packages (from tensorflow) (1.16.0)\n",
      "Collecting grpcio<2.0,>=1.24.3\n",
      "  Downloading grpcio-1.46.1-cp39-cp39-win_amd64.whl (3.5 MB)\n",
      "Collecting h5py>=2.9.0\n",
      "  Downloading h5py-3.6.0-cp39-cp39-win_amd64.whl (2.8 MB)\n",
      "Collecting absl-py>=0.4.0\n",
      "  Using cached absl_py-1.0.0-py3-none-any.whl (126 kB)\n",
      "Collecting termcolor>=1.1.0\n",
      "  Using cached termcolor-1.1.0-py3-none-any.whl\n",
      "Requirement already satisfied: setuptools in c:\\users\\agust\\anaconda3\\envs\\cursodeeplearning\\lib\\site-packages (from tensorflow) (61.2.0)\n",
      "Collecting keras<2.9,>=2.8.0rc0\n",
      "  Using cached keras-2.8.0-py2.py3-none-any.whl (1.4 MB)\n",
      "Requirement already satisfied: numpy>=1.20 in c:\\users\\agust\\anaconda3\\envs\\cursodeeplearning\\lib\\site-packages (from tensorflow) (1.21.5)\n",
      "Requirement already satisfied: typing-extensions>=3.6.6 in c:\\users\\agust\\anaconda3\\envs\\cursodeeplearning\\lib\\site-packages (from tensorflow) (4.1.1)\n",
      "Requirement already satisfied: wheel<1.0,>=0.23.0 in c:\\users\\agust\\anaconda3\\envs\\cursodeeplearning\\lib\\site-packages (from astunparse>=1.6.0->tensorflow) (0.37.1)\n",
      "Collecting google-auth<3,>=1.6.3\n",
      "  Downloading google_auth-2.6.6-py2.py3-none-any.whl (156 kB)\n",
      "Collecting tensorboard-data-server<0.7.0,>=0.6.0\n",
      "  Using cached tensorboard_data_server-0.6.1-py3-none-any.whl (2.4 kB)\n",
      "Collecting werkzeug>=0.11.15\n",
      "  Downloading Werkzeug-2.1.2-py3-none-any.whl (224 kB)\n",
      "Collecting google-auth-oauthlib<0.5,>=0.4.1\n",
      "  Using cached google_auth_oauthlib-0.4.6-py2.py3-none-any.whl (18 kB)\n",
      "Collecting markdown>=2.6.8\n",
      "  Downloading Markdown-3.3.7-py3-none-any.whl (97 kB)\n",
      "Collecting tensorboard-plugin-wit>=1.6.0\n",
      "  Using cached tensorboard_plugin_wit-1.8.1-py3-none-any.whl (781 kB)\n",
      "Requirement already satisfied: requests<3,>=2.21.0 in c:\\users\\agust\\anaconda3\\envs\\cursodeeplearning\\lib\\site-packages (from tensorboard<2.9,>=2.8->tensorflow) (2.27.1)\n",
      "Collecting pyasn1-modules>=0.2.1\n",
      "  Using cached pyasn1_modules-0.2.8-py2.py3-none-any.whl (155 kB)\n",
      "Collecting rsa<5,>=3.1.4\n",
      "  Using cached rsa-4.8-py3-none-any.whl (39 kB)\n",
      "Collecting cachetools<6.0,>=2.0.0\n",
      "  Using cached cachetools-5.0.0-py3-none-any.whl (9.1 kB)\n",
      "Collecting requests-oauthlib>=0.7.0\n",
      "  Using cached requests_oauthlib-1.3.1-py2.py3-none-any.whl (23 kB)\n",
      "Collecting importlib-metadata>=4.4\n",
      "  Downloading importlib_metadata-4.11.3-py3-none-any.whl (18 kB)\n",
      "Collecting zipp>=0.5\n",
      "  Downloading zipp-3.8.0-py3-none-any.whl (5.4 kB)\n",
      "Collecting pyasn1<0.5.0,>=0.4.6\n",
      "  Using cached pyasn1-0.4.8-py2.py3-none-any.whl (77 kB)\n",
      "Requirement already satisfied: charset-normalizer~=2.0.0 in c:\\users\\agust\\anaconda3\\envs\\cursodeeplearning\\lib\\site-packages (from requests<3,>=2.21.0->tensorboard<2.9,>=2.8->tensorflow) (2.0.4)\n",
      "Requirement already satisfied: urllib3<1.27,>=1.21.1 in c:\\users\\agust\\anaconda3\\envs\\cursodeeplearning\\lib\\site-packages (from requests<3,>=2.21.0->tensorboard<2.9,>=2.8->tensorflow) (1.26.9)\n",
      "Requirement already satisfied: idna<4,>=2.5 in c:\\users\\agust\\anaconda3\\envs\\cursodeeplearning\\lib\\site-packages (from requests<3,>=2.21.0->tensorboard<2.9,>=2.8->tensorflow) (3.3)\n",
      "Requirement already satisfied: certifi>=2017.4.17 in c:\\users\\agust\\anaconda3\\envs\\cursodeeplearning\\lib\\site-packages (from requests<3,>=2.21.0->tensorboard<2.9,>=2.8->tensorflow) (2021.10.8)\n",
      "Collecting oauthlib>=3.0.0\n",
      "  Using cached oauthlib-3.2.0-py3-none-any.whl (151 kB)\n",
      "Installing collected packages: pyasn1, zipp, rsa, pyasn1-modules, oauthlib, cachetools, requests-oauthlib, importlib-metadata, google-auth, werkzeug, tensorboard-plugin-wit, tensorboard-data-server, protobuf, markdown, grpcio, google-auth-oauthlib, absl-py, wrapt, tf-estimator-nightly, termcolor, tensorflow-io-gcs-filesystem, tensorboard, opt-einsum, libclang, keras-preprocessing, keras, h5py, google-pasta, gast, flatbuffers, astunparse, tensorflow\n",
      "Successfully installed absl-py-1.0.0 astunparse-1.6.3 cachetools-5.0.0 flatbuffers-2.0 gast-0.5.3 google-auth-2.6.6 google-auth-oauthlib-0.4.6 google-pasta-0.2.0 grpcio-1.46.1 h5py-3.6.0 importlib-metadata-4.11.3 keras-2.8.0 keras-preprocessing-1.1.2 libclang-14.0.1 markdown-3.3.7 oauthlib-3.2.0 opt-einsum-3.3.0 protobuf-3.20.1 pyasn1-0.4.8 pyasn1-modules-0.2.8 requests-oauthlib-1.3.1 rsa-4.8 tensorboard-2.8.0 tensorboard-data-server-0.6.1 tensorboard-plugin-wit-1.8.1 tensorflow-2.8.0 tensorflow-io-gcs-filesystem-0.25.0 termcolor-1.1.0 tf-estimator-nightly-2.8.0.dev2021122109 werkzeug-2.1.2 wrapt-1.14.1 zipp-3.8.0\n"
     ]
    }
   ],
   "source": [
    "!pip install tensorflow"
   ]
  },
  {
   "cell_type": "code",
   "execution_count": 94,
   "id": "80321a7b-e04f-4e5a-8423-1e279c1114f1",
   "metadata": {},
   "outputs": [],
   "source": [
    "import pandas as pd \n",
    "import numpy as np\n",
    "import tensorflow as tf \n",
    "from sklearn.model_selection import train_test_split\n",
    "import matplotlib.pyplot as plt\n",
    "from tensorflow.keras.layers import Dense \n",
    "from tensorflow.keras.models import Sequential\n",
    "from sklearn.metrics import plot_confusion_matrix, confusion_matrix,accuracy_score, ConfusionMatrixDisplay"
   ]
  },
  {
   "cell_type": "code",
   "execution_count": 131,
   "id": "40aa3a16-565e-47d4-870c-3ac1b99e96c7",
   "metadata": {},
   "outputs": [],
   "source": [
    "train_data = X_train.reshape(X_train.shape[0],28,28)\n",
    "test_data = X_test.reshape(X_test.shape[0],28,28)\n",
    "\n",
    "train_labels = np.array(DATOS_TRAIN.label)\n",
    "test_labels = np.array(DATOS_TEST.label)\n",
    "\n",
    "labels = [\"T-shirt/top\",\"Trouser\",\"Pullover\",\"Dress\",\"Coat\",\"Sandal\",\"Shirt\",\"Sneaker\",\"Bag\",\"Ankle boot\"]"
   ]
  },
  {
   "cell_type": "code",
   "execution_count": 128,
   "id": "8876aa9c-6903-405d-8ee5-9ef098032dab",
   "metadata": {},
   "outputs": [
    {
     "data": {
      "text/plain": [
       "(60000, 28, 28)"
      ]
     },
     "execution_count": 128,
     "metadata": {},
     "output_type": "execute_result"
    }
   ],
   "source": [
    "train_data.shape"
   ]
  },
  {
   "cell_type": "code",
   "execution_count": 132,
   "id": "5a7db857-bd18-45d2-b898-ebc091337298",
   "metadata": {},
   "outputs": [
    {
     "data": {
      "text/plain": [
       "(60000,)"
      ]
     },
     "execution_count": 132,
     "metadata": {},
     "output_type": "execute_result"
    }
   ],
   "source": [
    "train_labels.shape"
   ]
  },
  {
   "cell_type": "code",
   "execution_count": 120,
   "id": "894867a9-e225-4ecb-9e6b-e7563ac968f0",
   "metadata": {},
   "outputs": [
    {
     "data": {
      "text/plain": [
       "<matplotlib.image.AxesImage at 0x251fc241640>"
      ]
     },
     "execution_count": 120,
     "metadata": {},
     "output_type": "execute_result"
    },
    {
     "data": {
      "image/png": "[encoded data removed]",
      "text/plain": [
       "<Figure size 432x288 with 1 Axes>"
      ]
     },
     "metadata": {
      "needs_background": "light"
     },
     "output_type": "display_data"
    }
   ],
   "source": [
    "plt.imshow(train_data[1500], cmap='gray') # ploteo una imagen cualquiera para chequear que este todo bien"
   ]
  },
  {
   "cell_type": "code",
   "execution_count": null,
   "id": "1a5ca655-86c3-4173-a794-df431075902a",
   "metadata": {},
   "outputs": [],
   "source": []
  },
  {
   "cell_type": "code",
   "execution_count": 121,
   "id": "12adccc6-ab15-4bf1-9652-98c525111985",
   "metadata": {},
   "outputs": [],
   "source": [
    "# Normalizing the values \n",
    "train_data = X_train/255\n",
    "test_data = X_test/255"
   ]
  },
  {
   "cell_type": "markdown",
   "id": "64c1bec1-a3db-468e-b5df-c448085b3141",
   "metadata": {},
   "source": [
    "### Building a Multi-class classification model through TensorFlow"
   ]
  },
  {
   "cell_type": "code",
   "execution_count": 149,
   "id": "82af3986-f2a8-4a48-9f98-91032e76a30f",
   "metadata": {},
   "outputs": [],
   "source": [
    "tf.random.set_seed(50) # setting random seed \n",
    "\n",
    "model = Sequential() # ceating the model \n",
    "model.add(tf.keras.layers.Flatten(input_shape=(28,28)))\n",
    "model.add(Dense(100,activation='relu')) # any range for number of neurons between 5 to 10 is good, my model is overkill\n",
    "model.add(Dense(50,activation='relu'))\n",
    "model.add(Dense(25,activation='relu'))\n",
    "model.add(Dense(10,activation='Softmax',name= \"Output_layer\"))\n",
    "\n",
    "model.compile(loss='sparse_categorical_crossentropy', optimizer = 'Adam', metrics =['accuracy'])"
   ]
  },
  {
   "cell_type": "code",
   "execution_count": 150,
   "id": "bf680259-60bf-4cda-8e2a-3fdda95b02bf",
   "metadata": {},
   "outputs": [
    {
     "name": "stdout",
     "output_type": "stream",
     "text": [
      "Model: \"sequential_7\"\n",
      "_________________________________________________________________\n",
      " Layer (type)                Output Shape              Param #   \n",
      "=================================================================\n",
      " flatten_7 (Flatten)         (None, 784)               0         \n",
      "                                                                 \n",
      " dense_21 (Dense)            (None, 100)               78500     \n",
      "                                                                 \n",
      " dense_22 (Dense)            (None, 50)                5050      \n",
      "                                                                 \n",
      " dense_23 (Dense)            (None, 25)                1275      \n",
      "                                                                 \n",
      " Output_layer (Dense)        (None, 10)                260       \n",
      "                                                                 \n",
      "=================================================================\n",
      "Total params: 85,085\n",
      "Trainable params: 85,085\n",
      "Non-trainable params: 0\n",
      "_________________________________________________________________\n"
     ]
    }
   ],
   "source": [
    "model.summary()"
   ]
  },
  {
   "cell_type": "code",
   "execution_count": 151,
   "id": "90004b16-f340-4cfa-8ff3-c689d468155b",
   "metadata": {},
   "outputs": [
    {
     "name": "stdout",
     "output_type": "stream",
     "text": [
      "Epoch 1/25\n",
      "1875/1875 [==============================] - 7s 4ms/step - loss: 1.6417 - accuracy: 0.7408 - val_loss: 0.6007 - val_accuracy: 0.8036\n",
      "Epoch 2/25\n",
      "1875/1875 [==============================] - 6s 3ms/step - loss: 0.5372 - accuracy: 0.8147 - val_loss: 0.5294 - val_accuracy: 0.8131\n",
      "Epoch 3/25\n",
      "1875/1875 [==============================] - 6s 3ms/step - loss: 0.4702 - accuracy: 0.8337 - val_loss: 0.4439 - val_accuracy: 0.8448\n",
      "Epoch 4/25\n",
      "1875/1875 [==============================] - 6s 3ms/step - loss: 0.4428 - accuracy: 0.8436 - val_loss: 0.4486 - val_accuracy: 0.8464\n",
      "Epoch 5/25\n",
      "1875/1875 [==============================] - 6s 3ms/step - loss: 0.4143 - accuracy: 0.8504 - val_loss: 0.4017 - val_accuracy: 0.8522\n",
      "Epoch 6/25\n",
      "1875/1875 [==============================] - 6s 3ms/step - loss: 0.4043 - accuracy: 0.8562 - val_loss: 0.4360 - val_accuracy: 0.8473\n",
      "Epoch 7/25\n",
      "1875/1875 [==============================] - 7s 3ms/step - loss: 0.3870 - accuracy: 0.8592 - val_loss: 0.3985 - val_accuracy: 0.8521\n",
      "Epoch 8/25\n",
      "1875/1875 [==============================] - 7s 4ms/step - loss: 0.3711 - accuracy: 0.8668 - val_loss: 0.4183 - val_accuracy: 0.8549\n",
      "Epoch 9/25\n",
      "1875/1875 [==============================] - 6s 3ms/step - loss: 0.3633 - accuracy: 0.8672 - val_loss: 0.4007 - val_accuracy: 0.8585\n",
      "Epoch 10/25\n",
      "1875/1875 [==============================] - 6s 3ms/step - loss: 0.3512 - accuracy: 0.8727 - val_loss: 0.3864 - val_accuracy: 0.8652\n",
      "Epoch 11/25\n",
      "1875/1875 [==============================] - 7s 4ms/step - loss: 0.3447 - accuracy: 0.8762 - val_loss: 0.3922 - val_accuracy: 0.8600\n",
      "Epoch 12/25\n",
      "1875/1875 [==============================] - 7s 3ms/step - loss: 0.3335 - accuracy: 0.8786 - val_loss: 0.4026 - val_accuracy: 0.8648\n",
      "Epoch 13/25\n",
      "1875/1875 [==============================] - 6s 3ms/step - loss: 0.3305 - accuracy: 0.8794 - val_loss: 0.3887 - val_accuracy: 0.8653\n",
      "Epoch 14/25\n",
      "1875/1875 [==============================] - 7s 4ms/step - loss: 0.3233 - accuracy: 0.8823 - val_loss: 0.3686 - val_accuracy: 0.8744\n",
      "Epoch 15/25\n",
      "1875/1875 [==============================] - 6s 3ms/step - loss: 0.3181 - accuracy: 0.8838 - val_loss: 0.4018 - val_accuracy: 0.8743\n",
      "Epoch 16/25\n",
      "1875/1875 [==============================] - 6s 3ms/step - loss: 0.3201 - accuracy: 0.8848 - val_loss: 0.3712 - val_accuracy: 0.8717\n",
      "Epoch 17/25\n",
      "1875/1875 [==============================] - 6s 3ms/step - loss: 0.3101 - accuracy: 0.8862 - val_loss: 0.3878 - val_accuracy: 0.8695\n",
      "Epoch 18/25\n",
      "1875/1875 [==============================] - 6s 3ms/step - loss: 0.3058 - accuracy: 0.8882 - val_loss: 0.3736 - val_accuracy: 0.8777\n",
      "Epoch 19/25\n",
      "1875/1875 [==============================] - 7s 3ms/step - loss: 0.3096 - accuracy: 0.8878 - val_loss: 0.3665 - val_accuracy: 0.8801\n",
      "Epoch 20/25\n",
      "1875/1875 [==============================] - 7s 3ms/step - loss: 0.3001 - accuracy: 0.8906 - val_loss: 0.3666 - val_accuracy: 0.8809\n",
      "Epoch 21/25\n",
      "1875/1875 [==============================] - 7s 3ms/step - loss: 0.2995 - accuracy: 0.8910 - val_loss: 0.3614 - val_accuracy: 0.8795\n",
      "Epoch 22/25\n",
      "1875/1875 [==============================] - 6s 3ms/step - loss: 0.2919 - accuracy: 0.8929 - val_loss: 0.3632 - val_accuracy: 0.8758\n",
      "Epoch 23/25\n",
      "1875/1875 [==============================] - 7s 3ms/step - loss: 0.2994 - accuracy: 0.8920 - val_loss: 0.3672 - val_accuracy: 0.8781\n",
      "Epoch 24/25\n",
      "1875/1875 [==============================] - 7s 3ms/step - loss: 0.2955 - accuracy: 0.8942 - val_loss: 0.3846 - val_accuracy: 0.8778\n",
      "Epoch 25/25\n",
      "1875/1875 [==============================] - 7s 3ms/step - loss: 0.2866 - accuracy: 0.8974 - val_loss: 0.3830 - val_accuracy: 0.8773\n"
     ]
    }
   ],
   "source": [
    "#fitting model / Training our modell\n",
    "history = model.fit(train_data, train_labels, validation_data=(test_data,test_labels), epochs=25)\n",
    "#aca estoy usando el test set como datos de validacion"
   ]
  },
  {
   "cell_type": "code",
   "execution_count": 152,
   "id": "01ae7d7a-2f9b-41c7-970d-04e4939e62b1",
   "metadata": {},
   "outputs": [
    {
     "data": {
      "text/plain": [
       "<AxesSubplot:>"
      ]
     },
     "execution_count": 152,
     "metadata": {},
     "output_type": "execute_result"
    },
    {
     "data": {
      "image/png": "[encoded data removed]",
      "text/plain": [
       "<Figure size 432x288 with 1 Axes>"
      ]
     },
     "metadata": {
      "needs_background": "light"
     },
     "output_type": "display_data"
    }
   ],
   "source": [
    "# Visualizing loss and accuracy of our model\n",
    "pd.DataFrame(history.history).plot()"
   ]
  },
  {
   "cell_type": "markdown",
   "id": "155c26a2-a4e2-45e4-8d76-9d29bd32b822",
   "metadata": {},
   "source": [
    "### Prediciendo y validdando el modelo "
   ]
  },
  {
   "cell_type": "code",
   "execution_count": 153,
   "id": "08a77542-4fa6-4b75-8f5b-231ebf44f299",
   "metadata": {},
   "outputs": [],
   "source": [
    "pred = model.predict(test_data) # inputs probability for each label\n",
    "pred = pred.argmax(axis=1) # takes the label value with highest probability "
   ]
  },
  {
   "cell_type": "code",
   "execution_count": 154,
   "id": "cce40f4a-89f1-49f4-992a-80c14e7fc8dd",
   "metadata": {},
   "outputs": [
    {
     "name": "stdout",
     "output_type": "stream",
     "text": [
      "Accuracy:  87.72999999999999 %\n"
     ]
    }
   ],
   "source": [
    "accuracy =accuracy_score(pred,test_labels)\n",
    "print(\"Accuracy: \",accuracy*100,'%')"
   ]
  },
  {
   "cell_type": "code",
   "execution_count": 155,
   "id": "064d032b-25c3-4028-a720-596055d05458",
   "metadata": {},
   "outputs": [
    {
     "data": {
      "image/png": "[encoded data removed]",
      "text/plain": [
       "<Figure size 720x720 with 2 Axes>"
      ]
     },
     "metadata": {
      "needs_background": "light"
     },
     "output_type": "display_data"
    }
   ],
   "source": [
    "# Creating Confusion matrix\n",
    "cm=confusion_matrix(pred ,test_labels)\n",
    "# Ploting Confusion matrix \n",
    "disp=ConfusionMatrixDisplay(confusion_matrix=cm,display_labels=labels)\n",
    "fig,ax = plt.subplots(figsize=(10,10))\n",
    "disp.plot(ax=ax, cmap = 'plasma');"
   ]
  },
  {
   "cell_type": "code",
   "execution_count": null,
   "id": "b1836b7f-d9f3-418c-87b3-cdded9939b3c",
   "metadata": {},
   "outputs": [],
   "source": []
  }
 ],
 "metadata": {
  "kernelspec": {
   "display_name": "Python 3 (ipykernel)",
   "language": "python",
   "name": "python3"
  },
  "language_info": {
   "codemirror_mode": {
    "name": "ipython",
    "version": 3
   },
   "file_extension": ".py",
   "mimetype": "text/x-python",
   "name": "python",
   "nbconvert_exporter": "python",
   "pygments_lexer": "ipython3",
   "version": "3.9.12"
  }
 },
 "nbformat": 4,
 "nbformat_minor": 5
}
